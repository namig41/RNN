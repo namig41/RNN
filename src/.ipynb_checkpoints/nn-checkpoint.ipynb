{
 "cells": [
  {
   "cell_type": "code",
   "execution_count": 2,
   "metadata": {},
   "outputs": [
    {
     "name": "stdout",
     "output_type": "stream",
     "text": [
      "Populating the interactive namespace from numpy and matplotlib\n"
     ]
    },
    {
     "name": "stderr",
     "output_type": "stream",
     "text": [
      "/home/namig/.local/lib/python3.8/site-packages/IPython/core/magics/pylab.py:159: UserWarning: pylab import has clobbered these variables: ['random']\n",
      "`%matplotlib` prevents importing * from pylab and numpy\n",
      "  warn(\"pylab import has clobbered these variables: %s\"  % clobbered +\n"
     ]
    }
   ],
   "source": [
    "%pylab inline \n",
    "\n",
    "import torch \n",
    "import torch.nn as nn\n",
    "import torch.nn.functional as F\n",
    "import numpy as np\n",
    "import csv\n",
    "import random\n",
    "from tqdm import trange\n",
    "import cv2"
   ]
  },
  {
   "cell_type": "code",
   "execution_count": 3,
   "metadata": {},
   "outputs": [],
   "source": [
    "import zipfile\n",
    "import os\n",
    "\n",
    "if not os.path.isdir('/tmp/asl_alphabet_test'):\n",
    "    with zipfile.ZipFile('../dataset/archive.zip', 'r') as zip_ref:\n",
    "        zip_ref.extractall('/tmp/')\n",
    "\n",
    "X_train = []\n",
    "Y_train = []\n",
    "\n",
    "asl = {\n",
    "\"A\" : 0,\n",
    "\"B\" : 1,\n",
    "\"C\" : 2,\n",
    "\"D\" : 3,\n",
    "\"E\" : 4,\n",
    "\"F\" : 5,\n",
    "\"G\" : 6,\n",
    "\"H\" : 7,\n",
    "\"I\" : 8,\n",
    "\"J\" : 9,\n",
    "\"K\" : 10,\n",
    "\"L\" : 11,\n",
    "\"M\" : 12,\n",
    "\"N\" : 13,\n",
    "\"O\" : 14,\n",
    "\"P\" : 15,\n",
    "\"Q\" : 16,\n",
    "\"R\" : 17,\n",
    "\"S\" : 18,\n",
    "\"T\" : 19,\n",
    "\"U\" : 20,\n",
    "\"V\" : 21,\n",
    "\"W\" : 22,\n",
    "\"X\" : 23,\n",
    "\"Y\" : 24,\n",
    "\"Z\" : 25,\n",
    "\"nothing\": 26,\n",
    "\"del\" : 27,\n",
    "\"space\" : 28\n",
    "}\n",
    "\n",
    "def walk_dir(path):\n",
    "    for l in os.listdir(path):\n",
    "        fp = path + '/' + l\n",
    "        if os.path.isdir(fp):\n",
    "            walk_dir(fp)\n",
    "        else:\n",
    "            img = cv2.imread(fp, cv2.IMREAD_GRAYSCALE)\n",
    "            img = cv2.resize(img, (28, 28))\n",
    "            X_train.append(img)\n",
    "            if \"nothing\" in l: \n",
    "                label = \"nothing\"\n",
    "            elif \"del\" in l:\n",
    "                label = \"del\"\n",
    "            elif \"space\" in l:\n",
    "                label = \"space\"\n",
    "            else:\n",
    "                label = l[0]\n",
    "            Y_train.append(asl[label])\n",
    "            \n",
    "walk_dir('/tmp/asl_alphabet_train')"
   ]
  },
  {
   "cell_type": "code",
   "execution_count": 4,
   "metadata": {},
   "outputs": [
    {
     "ename": "NameError",
     "evalue": "name 'model' is not defined",
     "output_type": "error",
     "traceback": [
      "\u001b[0;31m---------------------------------------------------------------------------\u001b[0m",
      "\u001b[0;31mNameError\u001b[0m                                 Traceback (most recent call last)",
      "\u001b[0;32m<ipython-input-4-360d585e1862>\u001b[0m in \u001b[0;36m<module>\u001b[0;34m\u001b[0m\n\u001b[1;32m      5\u001b[0m \u001b[0mimshow\u001b[0m\u001b[0;34m(\u001b[0m\u001b[0mX_train\u001b[0m\u001b[0;34m[\u001b[0m\u001b[0mnum\u001b[0m\u001b[0;34m]\u001b[0m\u001b[0;34m)\u001b[0m\u001b[0;34m\u001b[0m\u001b[0;34m\u001b[0m\u001b[0m\n\u001b[1;32m      6\u001b[0m \u001b[0mx\u001b[0m \u001b[0;34m=\u001b[0m \u001b[0mtorch\u001b[0m\u001b[0;34m.\u001b[0m\u001b[0mtensor\u001b[0m\u001b[0;34m(\u001b[0m\u001b[0mX_train\u001b[0m\u001b[0;34m[\u001b[0m\u001b[0mnum\u001b[0m\u001b[0;34m]\u001b[0m\u001b[0;34m)\u001b[0m\u001b[0;34m.\u001b[0m\u001b[0mfloat\u001b[0m\u001b[0;34m(\u001b[0m\u001b[0;34m)\u001b[0m\u001b[0;34m\u001b[0m\u001b[0;34m\u001b[0m\u001b[0m\n\u001b[0;32m----> 7\u001b[0;31m \u001b[0mout\u001b[0m \u001b[0;34m=\u001b[0m \u001b[0mmodel\u001b[0m\u001b[0;34m(\u001b[0m\u001b[0mx\u001b[0m\u001b[0;34m)\u001b[0m\u001b[0;34m\u001b[0m\u001b[0;34m\u001b[0m\u001b[0m\n\u001b[0m\u001b[1;32m      8\u001b[0m \u001b[0mprint\u001b[0m\u001b[0;34m(\u001b[0m\u001b[0mtorch\u001b[0m\u001b[0;34m.\u001b[0m\u001b[0margmax\u001b[0m\u001b[0;34m(\u001b[0m\u001b[0mout\u001b[0m\u001b[0;34m,\u001b[0m \u001b[0mdim\u001b[0m\u001b[0;34m=\u001b[0m\u001b[0;36m1\u001b[0m\u001b[0;34m)\u001b[0m\u001b[0;34m,\u001b[0m \u001b[0mY_train\u001b[0m\u001b[0;34m[\u001b[0m\u001b[0mnum\u001b[0m\u001b[0;34m]\u001b[0m\u001b[0;34m)\u001b[0m\u001b[0;34m\u001b[0m\u001b[0;34m\u001b[0m\u001b[0m\n",
      "\u001b[0;31mNameError\u001b[0m: name 'model' is not defined"
     ]
    },
    {
     "data": {
      "image/png": "[encoded data removed]",
      "text/plain": [
       "<Figure size 432x288 with 1 Axes>"
      ]
     },
     "metadata": {
      "needs_background": "light"
     },
     "output_type": "display_data"
    }
   ],
   "source": [
    "X_train = np.array(X_train)\n",
    "Y_train = np.array(Y_train)\n",
    "\n",
    "num = random.randint(0, X_train.shape[0])\n",
    "imshow(X_train[num])\n",
    "x = torch.tensor(X_train[num]).float()\n",
    "out = model(x)\n",
    "print(torch.argmax(out, dim=1), Y_train[num])"
   ]
  },
  {
   "cell_type": "code",
   "execution_count": null,
   "metadata": {},
   "outputs": [],
   "source": [
    "X_train = []\n",
    "Y_train = []\n",
    "\n",
    "with open('../dataset/mnist_dataset/mnist_train_100.csv', 'r') as f:\n",
    "    csvfile = csv.reader(f, delimiter=',', quotechar='|')\n",
    "    for row in csvfile:\n",
    "        t = list(map(int, row))\n",
    "        X_train.append(t[1:])\n",
    "        Y_train.append(t[0])\n",
    "        \n",
    "X_train = np.array(X_train)\n",
    "Y_train = np.array(Y_train)"
   ]
  },
  {
   "cell_type": "code",
   "execution_count": null,
   "metadata": {},
   "outputs": [],
   "source": [
    "BS = 300\n",
    "loss_function = nn.CrossEntropyLoss()\n",
    "optim = torch.optim.Adam(model.parameters()) \n",
    "losses, accuracies = [], []\n",
    "\n",
    "for i in (t := trange(10000)):\n",
    "    samp = np.random.randint(0, X_train.shape[0], size=(BS))\n",
    "    X = torch.tensor(X_train[samp]).float()\n",
    "    Y = torch.tensor(Y_train[samp]).long()\n",
    "    optim.zero_grad()\n",
    "    out = model(X)\n",
    "    cat = torch.argmax(out, dim=1)\n",
    "    accuracy = (cat == Y).float().mean()\n",
    "    loss = loss_function(out, Y)\n",
    "    accuracies.append(accuracy)\n",
    "    losses.append(loss)\n",
    "    loss.backward()\n",
    "    optim.step()\n",
    "    t.set_description(\"loss: %.4f accuracy: %.4f\" % (loss, accuracy))"
   ]
  },
  {
   "cell_type": "code",
   "execution_count": null,
   "metadata": {},
   "outputs": [],
   "source": [
    "plot(accuracies)\n",
    "plot(losses)"
   ]
  },
  {
   "cell_type": "code",
   "execution_count": null,
   "metadata": {},
   "outputs": [],
   "source": [
    "class Net(nn.Module):\n",
    "    def __init__(self):\n",
    "            super(Net, self).__init__()\n",
    "            \n",
    "            self.l1 = nn.Linear(28 * 28, 270) \n",
    "            self.l2 = nn.Linear(270, 128)\n",
    "            self.l3 = nn.Linear(128, 29)\n",
    "            \n",
    "    def forward(self, x):\n",
    "        x = x.view(-1, 28 * 28) \n",
    "        \n",
    "        x = F.relu(self.l1(x))\n",
    "        x = F.relu(self.l2(x))\n",
    "        x = self.l3(x)\n",
    "        \n",
    "        return x\n",
    "model = Net()"
   ]
  },
  {
   "cell_type": "code",
   "execution_count": null,
   "metadata": {},
   "outputs": [],
   "source": [
    "class Net(nn.Module):\n",
    "    def __init__(self):\n",
    "        super(Net, self).__init__()\n",
    "        \n",
    "        self.conv1 = nn.Conv2d(3, 6, 5)\n",
    "        self.conv2 = nn.Conv2d(6, 16, 5)\n",
    "\n",
    "        self.pool = nn.MaxPool2d(2, 2)\n",
    "\n",
    "        \n",
    "        self.l1 = nn.Linear(28 * 28, 270) \n",
    "        self.l2 = nn.Linear(270, 128)\n",
    "        self.l3 = nn.Linear(128, 29)\n",
    "\n",
    "    def forward(self, x):\n",
    "        \n",
    "        x = self.pool(F.relu(self.conv1(x)))\n",
    "        x = self.pool(F.relu(self.conv2(x)))\n",
    "        \n",
    "        x = x.view(-1, 16 * 5 * 5)\n",
    "        x = F.relu(self.fc1(x))\n",
    "        x = F.relu(self.fc2(x))\n",
    "        x = self.fc3(x)\n",
    "        \n",
    "        return x"
   ]
  }
 ],
 "metadata": {
  "kernelspec": {
   "display_name": "Python 3",
   "language": "python",
   "name": "python3"
  },
  "language_info": {
   "codemirror_mode": {
    "name": "ipython",
    "version": 3
   },
   "file_extension": ".py",
   "mimetype": "text/x-python",
   "name": "python",
   "nbconvert_exporter": "python",
   "pygments_lexer": "ipython3",
   "version": "3.8.5"
  }
 },
 "nbformat": 4,
 "nbformat_minor": 4
}
